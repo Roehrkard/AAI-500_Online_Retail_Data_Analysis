{
 "cells": [
  {
   "cell_type": "markdown",
   "metadata": {},
   "source": [
    "# AAI-500_Online_Retail_Data_Analysis\n",
    "\n",
    "Names: Arifa Kokab, Andrew Roehr, Laxmi Sulakshana Rapolu \n"
   ]
  },
  {
   "cell_type": "markdown",
   "metadata": {},
   "source": [
    "EDA exploratory_data_analysis"
   ]
  },
  {
   "cell_type": "code",
   "execution_count": null,
   "metadata": {},
   "outputs": [],
   "source": []
  },
  {
   "cell_type": "markdown",
   "metadata": {},
   "source": []
  }
 ],
 "metadata": {
  "kernelspec": {
   "display_name": "Python 3 (ipykernel)",
   "language": "python",
   "name": "python3"
  },
  "language_info": {
   "codemirror_mode": {
    "name": "ipython",
    "version": 3
   },
   "file_extension": ".py",
   "mimetype": "text/x-python",
   "name": "python",
   "nbconvert_exporter": "python",
   "pygments_lexer": "ipython3",
   "version": "3.11.7"
  }
 },
 "nbformat": 4,
 "nbformat_minor": 4
}
from ucimlrepo import fetch_ucirepo 
import numpy as np
import pandas as pd
import matplotlib.pyplot as plt
import seaborn as sns

# fetch dataset 
online_retail = fetch_ucirepo(id=352) 
  
# data (as pandas dataframes) 
X = online_retail.data.features 
y = online_retail.data.targets

# metadata 
#print(online_retail.metadata) 
  
# variable information 
#print(online_retail.variables) 
A = X["Quantity"].isnull().sum()
print('Quantity - missing values')
print(A)
B = X["UnitPrice"].isnull().sum()
print('UnitPrice - missing values')
print(B)

#Removing missing data rows
df_filtered = X[X['Quantity'].notnull()].copy()
df_filtered2 = df_filtered[df_filtered['UnitPrice'].notnull()].copy()
print(df_filtered2.columns)

#Assigning Data Type to each variable
df_filtered2['Quantity'] = df_filtered2['Quantity'].astype(int)
df_filtered2['UnitPrice'] = df_filtered2['UnitPrice'].astype(float)
df_filtered2['CustomerID'] = df_filtered2['CustomerID'].astype('category')
df_filtered2['Description'] = df_filtered2['Description'].astype('category')
df_filtered2['Country'] = df_filtered2['Country'].astype('category')
df_filtered2['InvoiceDate'] = pd.to_datetime(df_filtered2['InvoiceDate'])

#Adding a new column to find the Total (Qty x Unit Price)
df_filtered2["Total"] = df_filtered2["Quantity"] * df_filtered2["UnitPrice"]

#Overview of all filtered data***(I am struggling to add StockCode and InvoiceNo columns to this dataframe)
print(df_filtered2.head())
print('All Data Types')
print(df_filtered2.dtypes)
print('Data Information')
print(df_filtered2.info())

#Summary Statistics of Numerical Columns
print('Total Invoice Value - Summary Statistics')
print(df_filtered2["Total"].describe())
print("Quantity - Summary Statistics")
print(df_filtered2['Quantity'].describe())
print('Unit Price - Summary Statistics')
print(df_filtered2['UnitPrice'].describe())

#Count for Categorical Columns
print('Count of Unique Values for Categorical Columns')
print(df_filtered2[['Country', 'CustomerID', 'Description']].nunique())


#EXPLORATORY DATA ANALYSIS: (I am struggling with some of them, please see below)
#Histogram of Total
plt.hist(df_filtered2['Total'], bins=4, color='blue', edgecolor='black')
plt.title('Histogram of Total')
plt.xlabel('Value')
plt.ylabel('Frequency')
plt.show()

#Histogram of Unit Price
plt.hist(df_filtered2['UnitPrice'], bins=4, color='blue', edgecolor='black')
plt.title('Histogram of UnitPrice')
plt.xlabel('Value')
plt.ylabel('Frequency')
plt.show()

#Time Series Analysis: (i need help with this one)
#df_filtered2['year'] = df_filtered2['InvoiceDate'].dt.year
#df_filtered2['month'] = df_filtered2['InvoiceDate'].dt.month
#df_filtered2['InvoiceDate'] = pd.to_datetime(df_filtered2['InvoiceDate'])
#df_filtered2.set_index('InvoiceDate', inplace=True)
#df_filtered2.resample('month').sum()['Total'].plot()
#plt.show()

#Customer Analysis
customer_info = df_filtered2.groupby('CustomerID').agg({'Total':['count','sum']})
customer_info.columns = ['purchase_count','total_spending']
print('Customer Analysis')
print(customer_info.sort_values(by='total_spending',ascending=False).head())

#Country Analysis
country_sales = df_filtered2.groupby('Country')['Total'].sum().sort_values(ascending=False)
country_sales.plot(kind='bar')
print('Country Analysis')
plt.show()

#Price Analysis
print('Price Analysis')
sns.boxplot(x='UnitPrice', data=df_filtered2)

#Stock Code Analysis (I need help with this one, it isn't identifying StockCode)
#top_products = df_filtered2['StockCode'].value_counts().head(10)
#top_products.plot(kind='bar')
#plt.show()

#Interactive Plots
import plotly.express as px
fig = px.scatter(df_filtered2, x='Quantity', y='Total', color='Country')
fig.show()
fig = px.scatter(df_filtered2, x='Quantity', y='Total', color='CustomerID')
fig.show()
