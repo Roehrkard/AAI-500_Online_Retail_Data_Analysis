{
 "cells": [
  {
   "cell_type": "code",
   "execution_count": null,
   "metadata": {},
   "outputs": [],
   "source": [
    "# AAI-500_Online_Retail_Data_Analysis\n",
    "\n",
    "Names: Arifa Kokab, Andrew Roehr, Laxmi Sulakshana Rapolu \n",
    "Date:"
   ]
  },
  {
   "cell_type": "code",
   "execution_count": null,
   "metadata": {},
   "outputs": [],
   "source": []
  }
 ],
 "metadata": {
  "language_info": {
   "name": "python"
  }
 },
 "nbformat": 4,
 "nbformat_minor": 2
}
